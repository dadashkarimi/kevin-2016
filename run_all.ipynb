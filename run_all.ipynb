{
 "cells": [
  {
   "cell_type": "code",
   "execution_count": 25,
   "metadata": {},
   "outputs": [
    {
     "name": "stdout",
     "output_type": "stream",
     "text": [
      "This script is an example of a fully automated motion correction of the\n",
      "fetal brain, as described in \"Automated Fetal Brain Segmentation from 2D MRI\n",
      "Slices for Motion Correction\", K. Keraudren et al. (2014)\n",
      "\n",
      "Performing brain segmentation\n",
      "\n",
      "Namespace(cpu=5, debug=False, do_3D=True, do_patchZ=False, ga=29.7, img=['data/b2_mom_001_19_week_3__T2_Haste_Cor_mm_400_FOV_expanded.nii.gz'], l=30.0, mask=['output_detection/b2_mom_001_19_week_3__T2_Haste_Cor_mm_400_FOV_expanded.nii.gz'], mass=True, no_cleaning=False, ntrees=30, output_dir='output_segmentation', radius=8)\n",
      "RATIO =  0 0\n",
      "Traceback (most recent call last):\n",
      "  File \"fetalMask_segmentation.py\", line 151, in <module>\n",
      "    print \"RATIO = \", n_positive, n_points, float(n_positive) / float(n_points) * 100\n",
      "ZeroDivisionError: float division by zero\n"
     ]
    }
   ],
   "source": [
    "!./run.sh -2"
   ]
  },
  {
   "cell_type": "code",
   "execution_count": null,
   "metadata": {},
   "outputs": [
    {
     "name": "stdout",
     "output_type": "stream",
     "text": [
      "This script is an example of a fully automated motion correction of the\n",
      "fetal brain, as described in \"Automated Fetal Brain Segmentation from 2D MRI\n",
      "Slices for Motion Correction\", K. Keraudren et al. (2014)\n",
      "\n",
      "Performing brain detection\n",
      "\n",
      "('detection len: ', 90)\n",
      "90\n",
      "('filename ', 'data/b2_mom_056_19_week_8__T2_Haste_Sag_mm_300_FOV_expanded.nii.gz')\n",
      "165\n",
      "('header size:', 3.0)\n",
      "Fit cube using RANSAC\n",
      "165\n",
      "initial mask\n",
      "('img.shape ', (30, 256, 256))\n",
      "('mask.shape ', (90, 300, 299))\n",
      "('ellipse_mask ', (90, 256, 255))\n",
      "{'origin': array([  6.98905116,  28.25876461, -92.45591616,   0.        ]), 'dim': array([255, 256,  90,   1], dtype=int32), 'pixelSize': array([1.17187488, 1.17187488, 1.        , 1.        ]), 'orientation': array([[-8.96203806e-01, -4.43642674e-01, -3.64484397e-09],\n",
      "       [-1.78584290e-01,  3.60758692e-01, -9.15402018e-01],\n",
      "       [ 4.06111320e-01, -8.20386728e-01, -4.02540962e-01]])}\n",
      "Performing brain segmentation\n",
      "\n",
      "Namespace(cpu=5, debug=False, do_3D=True, do_patchZ=False, ga=29.7, img=['data/b2_mom_056_19_week_8__T2_Haste_Sag_mm_300_FOV_expanded.nii.gz'], l=30.0, mask=['output_detection/b2_mom_056_19_week_8__T2_Haste_Sag_mm_300_FOV_expanded.nii.gz'], mass=True, no_cleaning=False, ntrees=30, output_dir='output_segmentation', radius=8)\n",
      "RATIO =  8143 8143 100.0\n",
      "learning...\n",
      "/autofs/space/bal_004/users/jd1677/anaconda3/envs/kevin16/lib/python2.7/site-packages/sklearn/ensemble/weight_boosting.py:27: DeprecationWarning: numpy.core.umath_tests is an internal NumPy module and should not be imported. It will be removed in a future NumPy release.\n",
      "  from numpy.core.umath_tests import inner1d\n",
      "predicting...\n"
     ]
    }
   ],
   "source": [
    "!./run.sh -a"
   ]
  },
  {
   "cell_type": "code",
   "execution_count": 20,
   "metadata": {},
   "outputs": [
    {
     "name": "stdout",
     "output_type": "stream",
     "text": [
      "<class 'nibabel.nifti1.Nifti1Header'> object, endian='<'\n",
      "sizeof_hdr      : 348\n",
      "data_type       : \n",
      "db_name         : \n",
      "extents         : 0\n",
      "session_error   : 0\n",
      "regular         : \n",
      "dim_info        : 0\n",
      "dim             : [  3 256 256  20   1   1   1   1]\n",
      "intent_p1       : 0.0\n",
      "intent_p2       : 0.0\n",
      "intent_p3       : 0.0\n",
      "intent_code     : none\n",
      "datatype        : int16\n",
      "bitpix          : 16\n",
      "slice_start     : 0\n",
      "pixdim          : [1.     1.5625 1.5625 4.     1.     1.     1.     1.    ]\n",
      "vox_offset      : 0.0\n",
      "scl_slope       : nan\n",
      "scl_inter       : nan\n",
      "slice_end       : 0\n",
      "slice_code      : unknown\n",
      "xyzt_units      : 0\n",
      "cal_max         : 0.0\n",
      "cal_min         : 0.0\n",
      "slice_duration  : 0.0\n",
      "toffset         : 0.0\n",
      "glmax           : 0\n",
      "glmin           : 0\n",
      "descrip         : \n",
      "aux_file        : \n",
      "qform_code      : unknown\n",
      "sform_code      : aligned\n",
      "quatern_b       : -0.14339226\n",
      "quatern_c       : -0.6924151\n",
      "quatern_d       : 0.6924151\n",
      "qoffset_x       : 238.57611\n",
      "qoffset_y       : -8.719543\n",
      "qoffset_z       : 126.04571\n",
      "srow_x          : [ -1.4339917   0.         -1.5885915 238.57611  ]\n",
      "srow_y          : [ 0.62054354  0.         -3.6710186  -8.719543  ]\n",
      "srow_z          : [  0.       -1.5625    0.      126.04571]\n",
      "intent_name     : \n",
      "magic           : n+1\n",
      "214660451\n",
      "('Data type of the loaded image data:', (256, 256, 20))\n",
      "(0, 2536)\n",
      "('Data type of the loaded image data:', (288, 288, 79, 1))\n",
      "<class 'nibabel.nifti1.Nifti1Header'> object, endian='<'\n",
      "sizeof_hdr      : 348\n",
      "data_type       : \n",
      "db_name         : \n",
      "extents         : 0\n",
      "session_error   : 0\n",
      "regular         : r\n",
      "dim_info        : 0\n",
      "dim             : [  4 256 256  80   1   1   1   1]\n",
      "intent_p1       : 0.0\n",
      "intent_p2       : 0.0\n",
      "intent_p3       : 0.0\n",
      "intent_code     : none\n",
      "datatype        : float32\n",
      "bitpix          : 32\n",
      "slice_start     : 0\n",
      "pixdim          : [1.     1.5625 1.5625 1.     1.     0.     0.     0.    ]\n",
      "vox_offset      : 0.0\n",
      "scl_slope       : nan\n",
      "scl_inter       : nan\n",
      "slice_end       : 0\n",
      "slice_code      : unknown\n",
      "xyzt_units      : 18\n",
      "cal_max         : 0.0\n",
      "cal_min         : 0.0\n",
      "slice_duration  : 0.0\n",
      "toffset         : 0.0\n",
      "glmax           : 0\n",
      "glmin           : 0\n",
      "descrip         : \n",
      "aux_file        : \n",
      "qform_code      : scanner\n",
      "sform_code      : unknown\n",
      "quatern_b       : -0.14339226\n",
      "quatern_c       : -0.6924151\n",
      "quatern_d       : 0.6924151\n",
      "qoffset_x       : 239.17183\n",
      "qoffset_y       : -7.342909\n",
      "qoffset_z       : 126.045715\n",
      "srow_x          : [0. 0. 0. 0.]\n",
      "srow_y          : [0. 0. 0. 0.]\n",
      "srow_z          : [0. 0. 0. 0.]\n",
      "intent_name     : \n",
      "magic           : n+1\n",
      "('Data type of the loaded image data:', (256, 256, 80, 1), 0.0, 2.0)\n"
     ]
    }
   ],
   "source": [
    "#  conda install -c conda-forge opencv=2.4"
   ]
  },
  {
   "cell_type": "code",
   "execution_count": 63,
   "metadata": {},
   "outputs": [
    {
     "data": {
      "text/plain": [
       "(288, 288, 90, 1)"
      ]
     },
     "execution_count": 63,
     "metadata": {},
     "output_type": "execute_result"
    }
   ],
   "source": [
    "# !conda install -y -c conda-forge nibabel\n",
    "img.shape"
   ]
  },
  {
   "cell_type": "code",
   "execution_count": 2,
   "metadata": {},
   "outputs": [
    {
     "name": "stdout",
     "output_type": "stream",
     "text": [
      "('Data type of the loaded image data:', (288, 288, 79, 1))\n"
     ]
    }
   ],
   "source": [
    "import nibabel as nib\n",
    "data = nib.load(\"data2/stack-6.nii.gz\")\n",
    "print(\"Data type of the loaded image data:\", data.get_data().shape)\n",
    "\n",
    "# data = img.get_fdata()"
   ]
  },
  {
   "cell_type": "code",
   "execution_count": 3,
   "metadata": {},
   "outputs": [
    {
     "data": {
      "text/plain": [
       "(288, 288, 79, 1)"
      ]
     },
     "execution_count": 3,
     "metadata": {},
     "output_type": "execute_result"
    }
   ],
   "source": [
    "data.shape"
   ]
  },
  {
   "cell_type": "code",
   "execution_count": 12,
   "metadata": {},
   "outputs": [
    {
     "name": "stdout",
     "output_type": "stream",
     "text": [
      "\u001b[33mDEPRECATION: Python 2.7 will reach the end of its life on January 1st, 2020. Please upgrade your Python as Python 2.7 won't be maintained after that date. A future version of pip will drop support for Python 2.7. More details about Python 2 support in pip, can be found at https://pip.pypa.io/en/latest/development/release-process/#python-2-support\u001b[0m\n",
      "Collecting opencv-python-headless\n",
      "\u001b[?25l  Downloading https://files.pythonhosted.org/packages/c1/5e/526e8888acf488cf311bcd3da220400ac5f56f60bb127f3706acefba25f7/opencv-python-headless-4.3.0.38.tar.gz (88.0MB)\n",
      "\u001b[K     |████████████████████████████████| 88.0MB 52kB/s \n",
      "\u001b[?25h  Installing build dependencies ... \u001b[?25ldone\n",
      "\u001b[?25h  Getting requirements to build wheel ... \u001b[?25lerror\n",
      "\u001b[31m  ERROR: Command errored out with exit status 1:\n",
      "   command: /autofs/space/bal_004/users/jd1677/anaconda3/envs/py2.7/bin/python /autofs/space/bal_004/users/jd1677/anaconda3/envs/py2.7/lib/python2.7/site-packages/pip/_vendor/pep517/_in_process.py get_requires_for_build_wheel /scratch/3552084/tmpJJGx2a\n",
      "       cwd: /scratch/3552084/pip-install-zqgMsU/opencv-python-headless\n",
      "  Complete output (22 lines):\n",
      "  Traceback (most recent call last):\n",
      "    File \"/autofs/space/bal_004/users/jd1677/anaconda3/envs/py2.7/lib/python2.7/site-packages/pip/_vendor/pep517/_in_process.py\", line 257, in <module>\n",
      "      main()\n",
      "    File \"/autofs/space/bal_004/users/jd1677/anaconda3/envs/py2.7/lib/python2.7/site-packages/pip/_vendor/pep517/_in_process.py\", line 240, in main\n",
      "      json_out['return_val'] = hook(**hook_input['kwargs'])\n",
      "    File \"/autofs/space/bal_004/users/jd1677/anaconda3/envs/py2.7/lib/python2.7/site-packages/pip/_vendor/pep517/_in_process.py\", line 91, in get_requires_for_build_wheel\n",
      "      return hook(config_settings)\n",
      "    File \"/scratch/3552084/pip-build-env-TL8PtP/overlay/lib/python2.7/site-packages/setuptools/build_meta.py\", line 146, in get_requires_for_build_wheel\n",
      "      return self._get_build_requires(config_settings, requirements=['wheel'])\n",
      "    File \"/scratch/3552084/pip-build-env-TL8PtP/overlay/lib/python2.7/site-packages/setuptools/build_meta.py\", line 127, in _get_build_requires\n",
      "      self.run_setup()\n",
      "    File \"/scratch/3552084/pip-build-env-TL8PtP/overlay/lib/python2.7/site-packages/setuptools/build_meta.py\", line 243, in run_setup\n",
      "      self).run_setup(setup_script=setup_script)\n",
      "    File \"/scratch/3552084/pip-build-env-TL8PtP/overlay/lib/python2.7/site-packages/setuptools/build_meta.py\", line 142, in run_setup\n",
      "      exec(compile(code, __file__, 'exec'), locals())\n",
      "    File \"setup.py\", line 448, in <module>\n",
      "      main()\n",
      "    File \"setup.py\", line 99, in main\n",
      "      % {\"ext\": re.escape(sysconfig.get_config_var(\"EXT_SUFFIX\"))}\n",
      "    File \"/autofs/space/bal_004/users/jd1677/anaconda3/envs/py2.7/lib/python2.7/re.py\", line 210, in escape\n",
      "      s = list(pattern)\n",
      "  TypeError: 'NoneType' object is not iterable\n",
      "  ----------------------------------------\u001b[0m\n",
      "\u001b[31mERROR: Command errored out with exit status 1: /autofs/space/bal_004/users/jd1677/anaconda3/envs/py2.7/bin/python /autofs/space/bal_004/users/jd1677/anaconda3/envs/py2.7/lib/python2.7/site-packages/pip/_vendor/pep517/_in_process.py get_requires_for_build_wheel /scratch/3552084/tmpJJGx2a Check the logs for full command output.\u001b[0m\n",
      "\u001b[?25h"
     ]
    }
   ],
   "source": [
    "# !pip uninstall opencv-python -y\n",
    "# !pip install opencv-python-headless\n",
    "# !pip install scikit-learn==0.14"
   ]
  },
  {
   "cell_type": "code",
   "execution_count": 23,
   "metadata": {},
   "outputs": [
    {
     "name": "stdout",
     "output_type": "stream",
     "text": [
      "Collecting package metadata (current_repodata.json): done\n",
      "Solving environment: unsuccessful initial attempt using frozen solve. Retrying with flexible solve.\n",
      "Collecting package metadata (repodata.json): done\n",
      "Solving environment: done\n",
      "\n",
      "\n",
      "==> WARNING: A newer version of conda exists. <==\n",
      "  current version: 23.9.0\n",
      "  latest version: 24.1.0\n",
      "\n",
      "Please update conda by running\n",
      "\n",
      "    $ conda update -n base -c defaults conda\n",
      "\n",
      "Or to minimize the number of packages updated during conda update use\n",
      "\n",
      "     conda install conda=24.1.0\n",
      "\n",
      "\n",
      "\n",
      "## Package Plan ##\n",
      "\n",
      "  environment location: /autofs/space/bal_004/users/jd1677/anaconda3/envs/kevin16\n",
      "\n",
      "  added / updated specs:\n",
      "    - opencv=3.1.0\n",
      "\n",
      "\n",
      "The following NEW packages will be INSTALLED:\n",
      "\n",
      "  hdf5               conda-forge/linux-64::hdf5-1.8.17-11 \n",
      "  jasper             conda-forge/linux-64::jasper-1.900.1-h07fcdf6_1006 \n",
      "  jpeg               conda-forge/linux-64::jpeg-9e-h166bdaf_1 \n",
      "  libblas            conda-forge/linux-64::libblas-3.9.0-15_linux64_openblas \n",
      "  libcblas           conda-forge/linux-64::libcblas-3.9.0-15_linux64_openblas \n",
      "  libgfortran        conda-forge/linux-64::libgfortran-3.0.0-1 \n",
      "  libgfortran-ng     conda-forge/linux-64::libgfortran-ng-13.2.0-h69a702a_0 \n",
      "  libgfortran5       conda-forge/linux-64::libgfortran5-13.2.0-ha4646dd_0 \n",
      "  libopenblas        conda-forge/linux-64::libopenblas-0.3.20-pthreads_h78a6416_0 \n",
      "  libpng             conda-forge/linux-64::libpng-1.6.37-h21135ba_2 \n",
      "  libtiff            conda-forge/linux-64::libtiff-4.0.9-h648cc4a_1002 \n",
      "  numpy              conda-forge/linux-64::numpy-1.11.3-py27h8b7e671_1206 \n",
      "  opencv             conda-forge/linux-64::opencv-3.1.0-np111py27_1 \n",
      "  python_abi         conda-forge/linux-64::python_abi-2.7-1_cp27mu \n",
      "  xz                 conda-forge/linux-64::xz-5.2.5-h516909a_1 \n",
      "\n",
      "The following packages will be UPDATED:\n",
      "\n",
      "  ca-certificates    pkgs/main::ca-certificates-2023.12.12~ --> conda-forge::ca-certificates-2024.2.2-hbcca054_0 \n",
      "\n",
      "The following packages will be SUPERSEDED by a higher-priority channel:\n",
      "\n",
      "  certifi            pkgs/main/noarch::certifi-2020.6.20-p~ --> conda-forge/linux-64::certifi-2019.11.28-py27h8c360ce_1 \n",
      "\n",
      "\n",
      "\n",
      "Downloading and Extracting Packages:\n",
      "\n",
      "Preparing transaction: done\n",
      "Verifying transaction: done\n",
      "Executing transaction: done\n"
     ]
    }
   ],
   "source": [
    "!conda install -y -c conda-forge opencv=3.1.0"
   ]
  },
  {
   "cell_type": "code",
   "execution_count": 2,
   "metadata": {},
   "outputs": [
    {
     "name": "stdout",
     "output_type": "stream",
     "text": [
      "Collecting package metadata (current_repodata.json): done\n",
      "Solving environment: done\n",
      "\n",
      "\n",
      "==> WARNING: A newer version of conda exists. <==\n",
      "  current version: 23.9.0\n",
      "  latest version: 24.1.0\n",
      "\n",
      "Please update conda by running\n",
      "\n",
      "    $ conda update -n base -c defaults conda\n",
      "\n",
      "Or to minimize the number of packages updated during conda update use\n",
      "\n",
      "     conda install conda=24.1.0\n",
      "\n",
      "\n",
      "\n",
      "## Package Plan ##\n",
      "\n",
      "  environment location: /autofs/space/bal_004/users/jd1677/anaconda3/envs/kevin16\n",
      "\n",
      "  added / updated specs:\n",
      "    - scikit-learn\n",
      "\n",
      "\n",
      "The following packages will be downloaded:\n",
      "\n",
      "    package                    |            build\n",
      "    ---------------------------|-----------------\n",
      "    scipy-1.2.1                |   py27h09a28d5_1        18.1 MB  conda-forge\n",
      "    ------------------------------------------------------------\n",
      "                                           Total:        18.1 MB\n",
      "\n",
      "The following NEW packages will be INSTALLED:\n",
      "\n",
      "  blas               conda-forge/linux-64::blas-1.1-openblas \n",
      "  libgfortran4       pkgs/main/linux-64::libgfortran4-7.5.0-ha8ba4b0_17 \n",
      "  liblapack          conda-forge/linux-64::liblapack-3.9.0-3_h893e4fe_netlib \n",
      "  openblas           conda-forge/linux-64::openblas-0.2.20-8 \n",
      "  scikit-learn       conda-forge/linux-64::scikit-learn-0.19.2-py27_blas_openblasha84fab4_201 \n",
      "  scipy              conda-forge/linux-64::scipy-1.2.1-py27h09a28d5_1 \n",
      "\n",
      "The following packages will be REMOVED:\n",
      "\n",
      "  libgfortran5-13.2.0-ha4646dd_0\n",
      "  libopenblas-0.3.20-pthreads_h78a6416_0\n",
      "\n",
      "The following packages will be UPDATED:\n",
      "\n",
      "  certifi            conda-forge/linux-64::certifi-2019.11~ --> pkgs/main/noarch::certifi-2020.6.20-pyhd3eb1b0_3 \n",
      "\n",
      "The following packages will be SUPERSEDED by a higher-priority channel:\n",
      "\n",
      "  ca-certificates    conda-forge::ca-certificates-2024.2.2~ --> pkgs/main::ca-certificates-2023.12.12-h06a4308_0 \n",
      "  libgfortran-ng     conda-forge::libgfortran-ng-13.2.0-h6~ --> pkgs/main::libgfortran-ng-7.5.0-ha8ba4b0_17 \n",
      "\n",
      "The following packages will be DOWNGRADED:\n",
      "\n",
      "  libblas                         3.9.0-15_linux64_openblas --> 3.9.0-1_h6e990d7_netlib \n",
      "  libcblas                        3.9.0-15_linux64_openblas --> 3.9.0-3_h893e4fe_netlib \n",
      "\n",
      "\n",
      "\n",
      "Downloading and Extracting Packages:\n",
      "                                                                                \n",
      "Preparing transaction: done\n",
      "Verifying transaction: done\n",
      "Executing transaction: done\n"
     ]
    }
   ],
   "source": [
    "# !conda install -y --force-reinstall numpy\n",
    "!conda install -y scikit-learn "
   ]
  },
  {
   "cell_type": "code",
   "execution_count": 6,
   "metadata": {},
   "outputs": [
    {
     "name": "stdout",
     "output_type": "stream",
     "text": [
      "Collecting package metadata (repodata.json): done\n",
      "Solving environment: done\n",
      "\n",
      "\n",
      "==> WARNING: A newer version of conda exists. <==\n",
      "  current version: 23.9.0\n",
      "  latest version: 24.1.0\n",
      "\n",
      "Please update conda by running\n",
      "\n",
      "    $ conda update -n base -c defaults conda\n",
      "\n",
      "Or to minimize the number of packages updated during conda update use\n",
      "\n",
      "     conda install conda=24.1.0\n",
      "\n",
      "\n",
      "\n",
      "## Package Plan ##\n",
      "\n",
      "  environment location: /autofs/space/bal_004/users/jd1677/anaconda3/envs/kevin16\n",
      "\n",
      "  removed specs:\n",
      "    - numpy\n",
      "\n",
      "\n",
      "The following packages will be downloaded:\n",
      "\n",
      "    package                    |            build\n",
      "    ---------------------------|-----------------\n",
      "    certifi-2020.6.20          |     pyhd3eb1b0_3         155 KB\n",
      "    ------------------------------------------------------------\n",
      "                                           Total:         155 KB\n",
      "\n",
      "The following packages will be REMOVED:\n",
      "\n",
      "  blas-1.1-openblas\n",
      "  hdf5-1.8.17-11\n",
      "  jasper-1.900.1-h07fcdf6_1006\n",
      "  jpeg-9e-h166bdaf_1\n",
      "  libblas-3.9.0-1_h6e990d7_netlib\n",
      "  libcblas-3.9.0-3_h893e4fe_netlib\n",
      "  libgfortran-3.0.0-1\n",
      "  libgfortran-ng-7.5.0-ha8ba4b0_17\n",
      "  libgfortran4-7.5.0-ha8ba4b0_17\n",
      "  liblapack-3.9.0-3_h893e4fe_netlib\n",
      "  libpng-1.6.37-h21135ba_2\n",
      "  libtiff-4.0.9-h648cc4a_1002\n",
      "  numpy-1.11.3-py27_blas_openblashd3ea46f_205\n",
      "  openblas-0.2.20-8\n",
      "  opencv-3.1.0-np111py27_1\n",
      "  python_abi-2.7-1_cp27mu\n",
      "  scikit-learn-0.19.2-py27_blas_openblasha84fab4_201\n",
      "  scipy-1.2.1-py27h09a28d5_1\n",
      "  xz-5.2.5-h516909a_1\n",
      "\n",
      "The following packages will be UPDATED:\n",
      "\n",
      "  ca-certificates    anaconda::ca-certificates-2023.08.22-~ --> pkgs/main::ca-certificates-2023.12.12-h06a4308_0 \n",
      "\n",
      "The following packages will be SUPERSEDED by a higher-priority channel:\n",
      "\n",
      "  certifi                                          anaconda --> pkgs/main \n",
      "\n",
      "\n",
      "\n",
      "Downloading and Extracting Packages:\n",
      "                                                                                \n",
      "Preparing transaction: done\n",
      "Verifying transaction: done\n",
      "Executing transaction: done\n",
      "\u001b[33mDEPRECATION: Python 2.7 will reach the end of its life on January 1st, 2020. Please upgrade your Python as Python 2.7 won't be maintained after that date. A future version of pip will drop support for Python 2.7. More details about Python 2 support in pip, can be found at https://pip.pypa.io/en/latest/development/release-process/#python-2-support\u001b[0m\n",
      "Uninstalling numpy-1.16.6:\n",
      "  Successfully uninstalled numpy-1.16.6\n",
      "\u001b[31mERROR: Exception:\n",
      "Traceback (most recent call last):\n",
      "  File \"/autofs/space/bal_004/users/jd1677/anaconda3/envs/kevin16/lib/python2.7/site-packages/pip/_internal/cli/base_command.py\", line 153, in _main\n",
      "    status = self.run(options, args)\n",
      "  File \"/autofs/space/bal_004/users/jd1677/anaconda3/envs/kevin16/lib/python2.7/site-packages/pip/_internal/commands/uninstall.py\", line 82, in run\n",
      "    uninstall_pathset.commit()\n",
      "  File \"/autofs/space/bal_004/users/jd1677/anaconda3/envs/kevin16/lib/python2.7/site-packages/pip/_internal/req/req_uninstall.py\", line 450, in commit\n",
      "    self._moved_paths.commit()\n",
      "  File \"/autofs/space/bal_004/users/jd1677/anaconda3/envs/kevin16/lib/python2.7/site-packages/pip/_internal/req/req_uninstall.py\", line 290, in commit\n",
      "    save_dir.cleanup()\n",
      "  File \"/autofs/space/bal_004/users/jd1677/anaconda3/envs/kevin16/lib/python2.7/site-packages/pip/_internal/utils/temp_dir.py\", line 100, in cleanup\n",
      "    rmtree(self._path)\n",
      "  File \"/autofs/space/bal_004/users/jd1677/anaconda3/envs/kevin16/lib/python2.7/site-packages/pip/_vendor/retrying.py\", line 49, in wrapped_f\n",
      "    return Retrying(*dargs, **dkw).call(f, *args, **kw)\n",
      "  File \"/autofs/space/bal_004/users/jd1677/anaconda3/envs/kevin16/lib/python2.7/site-packages/pip/_vendor/retrying.py\", line 212, in call\n",
      "    raise attempt.get()\n",
      "  File \"/autofs/space/bal_004/users/jd1677/anaconda3/envs/kevin16/lib/python2.7/site-packages/pip/_vendor/retrying.py\", line 247, in get\n",
      "    six.reraise(self.value[0], self.value[1], self.value[2])\n",
      "  File \"/autofs/space/bal_004/users/jd1677/anaconda3/envs/kevin16/lib/python2.7/site-packages/pip/_vendor/retrying.py\", line 200, in call\n",
      "    attempt = Attempt(fn(*args, **kwargs), attempt_number, False)\n",
      "  File \"/autofs/space/bal_004/users/jd1677/anaconda3/envs/kevin16/lib/python2.7/site-packages/pip/_internal/utils/misc.py\", line 140, in rmtree\n",
      "    onerror=rmtree_errorhandler)\n",
      "  File \"/autofs/space/bal_004/users/jd1677/anaconda3/envs/kevin16/lib/python2.7/shutil.py\", line 275, in rmtree\n",
      "    onerror(os.remove, fullname, sys.exc_info())\n",
      "  File \"/autofs/space/bal_004/users/jd1677/anaconda3/envs/kevin16/lib/python2.7/shutil.py\", line 273, in rmtree\n",
      "    os.remove(fullname)\n",
      "OSError: [Errno 16] Device or resource busy: '/autofs/space/bal_004/users/jd1677/anaconda3/envs/kevin16/lib/python2.7/site-packages/numpy/~ore/.nfs00000000001e0276000000b7'\u001b[0m\n"
     ]
    }
   ],
   "source": [
    "!conda uninstall -y numpy\n",
    "!pip uninstall -y numpy\n",
    "# !conda install -y -c anaconda numpy\n",
    "# !conda install -y -c anaconda joblib"
   ]
  },
  {
   "cell_type": "code",
   "execution_count": 19,
   "metadata": {},
   "outputs": [
    {
     "name": "stdout",
     "output_type": "stream",
     "text": [
      "\u001b[33mDEPRECATION: Python 2.7 will reach the end of its life on January 1st, 2020. Please upgrade your Python as Python 2.7 won't be maintained after that date. A future version of pip will drop support for Python 2.7. More details about Python 2 support in pip, can be found at https://pip.pypa.io/en/latest/development/release-process/#python-2-support\u001b[0m\n",
      "Collecting numpy\n",
      "  Using cached https://files.pythonhosted.org/packages/3a/5f/47e578b3ae79e2624e205445ab77a1848acdaa2929a00eeef6b16eaaeb20/numpy-1.16.6-cp27-cp27mu-manylinux1_x86_64.whl\n",
      "Installing collected packages: numpy\n",
      "Successfully installed numpy-1.16.6\n"
     ]
    }
   ],
   "source": [
    "# !pip uninstall -y numpy\n",
    "!pip install -U numpy"
   ]
  },
  {
   "cell_type": "code",
   "execution_count": 4,
   "metadata": {},
   "outputs": [
    {
     "name": "stdout",
     "output_type": "stream",
     "text": [
      "\u001b[33mDEPRECATION: Python 2.7 will reach the end of its life on January 1st, 2020. Please upgrade your Python as Python 2.7 won't be maintained after that date. A future version of pip will drop support for Python 2.7. More details about Python 2 support in pip, can be found at https://pip.pypa.io/en/latest/development/release-process/#python-2-support\u001b[0m\n",
      "\u001b[31mERROR: Could not find a version that satisfies the requirement SciPy==1.4.1 (from versions: 0.8.0, 0.9.0, 0.10.0, 0.10.1, 0.11.0, 0.12.0, 0.12.1, 0.13.0, 0.13.1, 0.13.2, 0.13.3, 0.14.0, 0.14.1, 0.15.0, 0.15.1, 0.16.0, 0.16.1, 0.17.0, 0.17.1, 0.18.0, 0.18.1, 0.19.0, 0.19.1, 1.0.0, 1.0.1, 1.1.0, 1.2.0, 1.2.1, 1.2.2, 1.2.3)\u001b[0m\n",
      "\u001b[31mERROR: No matching distribution found for SciPy==1.4.1\u001b[0m\n"
     ]
    }
   ],
   "source": [
    "# !pip install SciPy==1.4.1"
   ]
  },
  {
   "cell_type": "code",
   "execution_count": 11,
   "metadata": {},
   "outputs": [
    {
     "name": "stdout",
     "output_type": "stream",
     "text": [
      "Collecting package metadata (current_repodata.json): done\n",
      "Solving environment: unsuccessful initial attempt using frozen solve. Retrying with flexible solve.\n",
      "Collecting package metadata (repodata.json): done\n",
      "Solving environment: done\n",
      "\n",
      "\n",
      "==> WARNING: A newer version of conda exists. <==\n",
      "  current version: 23.9.0\n",
      "  latest version: 24.1.0\n",
      "\n",
      "Please update conda by running\n",
      "\n",
      "    $ conda update -n base -c defaults conda\n",
      "\n",
      "Or to minimize the number of packages updated during conda update use\n",
      "\n",
      "     conda install conda=24.1.0\n",
      "\n",
      "\n",
      "\n",
      "## Package Plan ##\n",
      "\n",
      "  environment location: /autofs/space/bal_004/users/jd1677/anaconda3/envs/kevin16\n",
      "\n",
      "  added / updated specs:\n",
      "    - scipy=0.19.0\n",
      "\n",
      "\n",
      "The following packages will be downloaded:\n",
      "\n",
      "    package                    |            build\n",
      "    ---------------------------|-----------------\n",
      "    numpy-1.13.3               |py27_blas_openblas_200         8.4 MB  conda-forge\n",
      "    openblas-0.2.19            |                2        14.1 MB  conda-forge\n",
      "    scipy-0.19.0               |np113py27_blas_openblas_202        37.5 MB  conda-forge\n",
      "    ------------------------------------------------------------\n",
      "                                           Total:        60.1 MB\n",
      "\n",
      "The following NEW packages will be INSTALLED:\n",
      "\n",
      "  blas               conda-forge/linux-64::blas-1.1-openblas \n",
      "  libgfortran        conda-forge/linux-64::libgfortran-3.0.0-1 \n",
      "  numpy              conda-forge/linux-64::numpy-1.13.3-py27_blas_openblas_200 \n",
      "  openblas           conda-forge/linux-64::openblas-0.2.19-2 \n",
      "  python_abi         conda-forge/linux-64::python_abi-2.7-1_cp27mu \n",
      "  scipy              conda-forge/linux-64::scipy-0.19.0-np113py27_blas_openblas_202 \n",
      "\n",
      "The following packages will be UPDATED:\n",
      "\n",
      "  ca-certificates    pkgs/main::ca-certificates-2023.12.12~ --> conda-forge::ca-certificates-2024.2.2-hbcca054_0 \n",
      "\n",
      "The following packages will be SUPERSEDED by a higher-priority channel:\n",
      "\n",
      "  certifi            pkgs/main/noarch::certifi-2020.6.20-p~ --> conda-forge/linux-64::certifi-2019.11.28-py27h8c360ce_1 \n",
      "\n",
      "\n",
      "\n",
      "Downloading and Extracting Packages:\n",
      "openblas-0.2.19      | 14.1 MB   |                                       |   0% \n",
      "scipy-0.19.0         | 37.5 MB   |                                       |   0% \u001b[A\n",
      "\n",
      "openblas-0.2.19      | 14.1 MB   | ######9                               |  19% \n",
      "\n",
      "openblas-0.2.19      | 14.1 MB   | #################4                    |  47% \n",
      "\n",
      "numpy-1.13.3         | 8.4 MB    | ######2                               |  17% \u001b[A\u001b[A\n",
      "openblas-0.2.19      | 14.1 MB   | ###########################5          |  75% \n",
      "\n",
      "numpy-1.13.3         | 8.4 MB    | ##########################            |  70% \u001b[A\u001b[A\n",
      "scipy-0.19.0         | 37.5 MB   | ###1                                  |   8% \u001b[A\n",
      "scipy-0.19.0         | 37.5 MB   | ####9                                 |  13% \u001b[A\n",
      "scipy-0.19.0         | 37.5 MB   | #######3                              |  20% \u001b[A\n",
      "scipy-0.19.0         | 37.5 MB   | ########7                             |  24% \u001b[A\n",
      "scipy-0.19.0         | 37.5 MB   | #############1                        |  35% \u001b[A\n",
      "scipy-0.19.0         | 37.5 MB   | ################7                     |  45% \u001b[A\n",
      "scipy-0.19.0         | 37.5 MB   | ##################7                   |  51% \u001b[A\n",
      "scipy-0.19.0         | 37.5 MB   | #######################               |  62% \u001b[A\n",
      "scipy-0.19.0         | 37.5 MB   | ############################5         |  77% \u001b[A\n",
      "openblas-0.2.19      | 14.1 MB   | ##################################### | 100% \n",
      "\n",
      "numpy-1.13.3         | 8.4 MB    | ##################################### | 100% \u001b[A\u001b[A\n",
      "                                                                                \n",
      "                                                                                \u001b[A\n",
      "\n",
      "                                                                                \u001b[A\u001b[A\n",
      "Preparing transaction: done\n",
      "Verifying transaction: done\n",
      "Executing transaction: done\n"
     ]
    }
   ],
   "source": [
    "# !pip install SciPy==0.19.1\n",
    "# !pip install SciPy==0.19.1\n",
    "# !conda install -y -c conda-forge scipy=0.19.0\n"
   ]
  },
  {
   "cell_type": "code",
   "execution_count": 14,
   "metadata": {},
   "outputs": [
    {
     "name": "stdout",
     "output_type": "stream",
     "text": [
      "\u001b[33mDEPRECATION: Python 2.7 will reach the end of its life on January 1st, 2020. Please upgrade your Python as Python 2.7 won't be maintained after that date. A future version of pip will drop support for Python 2.7. More details about Python 2 support in pip, can be found at https://pip.pypa.io/en/latest/development/release-process/#python-2-support\u001b[0m\n",
      "Collecting numpy==1.9.2\n",
      "\u001b[?25l  Downloading https://files.pythonhosted.org/packages/47/46/34a876b2ef1e9048df8c678a246aae8c727f025fd907451b6a75dd0cea1f/numpy-1.9.2-cp27-cp27mu-manylinux1_x86_64.whl (14.7MB)\n",
      "\u001b[K     |████████████████████████████████| 14.7MB 9.5MB/s \n",
      "\u001b[?25hInstalling collected packages: numpy\n",
      "  Found existing installation: numpy 1.13.3\n",
      "    Uninstalling numpy-1.13.3:\n",
      "      Successfully uninstalled numpy-1.13.3\n",
      "\u001b[31mERROR: Could not install packages due to an EnvironmentError: [Errno 16] Device or resource busy: '/autofs/space/bal_004/users/jd1677/anaconda3/envs/kevin16/lib/python2.7/site-packages/~umpy/linalg/.nfs00000000001e0481000000b3'\n",
      "\u001b[0m\n"
     ]
    }
   ],
   "source": [
    "# pip install scikit-learn==0.15.2"
   ]
  },
  {
   "cell_type": "code",
   "execution_count": null,
   "metadata": {},
   "outputs": [],
   "source": []
  }
 ],
 "metadata": {
  "kernelspec": {
   "display_name": "Python 2",
   "language": "python",
   "name": "python2"
  },
  "language_info": {
   "codemirror_mode": {
    "name": "ipython",
    "version": 2
   },
   "file_extension": ".py",
   "mimetype": "text/x-python",
   "name": "python",
   "nbconvert_exporter": "python",
   "pygments_lexer": "ipython2",
   "version": "2.7.18"
  }
 },
 "nbformat": 4,
 "nbformat_minor": 2
}
